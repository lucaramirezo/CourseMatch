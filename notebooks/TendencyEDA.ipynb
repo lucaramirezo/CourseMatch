{
 "cells": [
  {
   "cell_type": "markdown",
   "source": [
    "## Estudio de Tendencias\n",
    "Estudio para verificar tendencias con datos de encuestas de stack overflow de los años 2022, 2023 y 2024"
   ],
   "metadata": {
    "collapsed": false
   }
  },
  {
   "cell_type": "markdown",
   "source": [
    "### Librerias y paths"
   ],
   "metadata": {
    "collapsed": false
   }
  },
  {
   "cell_type": "code",
   "execution_count": 16,
   "outputs": [],
   "source": [
    "import pandas as pd\n",
    "\n",
    "# Recargar los archivos debido al reinicio del entorno\n",
    "files = {\n",
    "    \"2022\": {\n",
    "        \"data\": \"../app/data/surveys/survey_results_public_2022.csv\",\n",
    "        \"schema\": \"../app/data/surveys/survey_results_schema_2022.csv\"\n",
    "    },\n",
    "    \"2023\": {\n",
    "        \"data\": \"../app/data/surveys/survey_results_public_2023.csv\",\n",
    "        \"schema\": \"../app/data/surveys/survey_results_schema_2023.csv\"\n",
    "    },\n",
    "    \"2024\": {\n",
    "        \"data\": \"../app/data/surveys/survey_results_public_2024.csv\",\n",
    "        \"schema\": \"../app/data/surveys/survey_results_schema_2024.csv\"\n",
    "    }\n",
    "}"
   ],
   "metadata": {
    "collapsed": false
   }
  },
  {
   "cell_type": "code",
   "execution_count": 17,
   "outputs": [
    {
     "name": "stdout",
     "output_type": "stream",
     "text": [
      "<class 'pandas.core.frame.DataFrame'>\n",
      "RangeIndex: 73268 entries, 0 to 73267\n",
      "Data columns (total 79 columns):\n",
      " #   Column                          Non-Null Count  Dtype  \n",
      "---  ------                          --------------  -----  \n",
      " 0   ResponseId                      73268 non-null  int64  \n",
      " 1   MainBranch                      73268 non-null  object \n",
      " 2   Employment                      71709 non-null  object \n",
      " 3   RemoteWork                      58958 non-null  object \n",
      " 4   CodingActivities                58899 non-null  object \n",
      " 5   EdLevel                         71571 non-null  object \n",
      " 6   LearnCode                       71580 non-null  object \n",
      " 7   LearnCodeOnline                 50685 non-null  object \n",
      " 8   LearnCodeCoursesCert            29389 non-null  object \n",
      " 9   YearsCode                       71331 non-null  object \n",
      " 10  YearsCodePro                    51833 non-null  object \n",
      " 11  DevType                         61302 non-null  object \n",
      " 12  OrgSize                         51039 non-null  object \n",
      " 13  PurchaseInfluence               50969 non-null  object \n",
      " 14  BuyNewTool                      67963 non-null  object \n",
      " 15  Country                         71771 non-null  object \n",
      " 16  Currency                        51264 non-null  object \n",
      " 17  CompTotal                       38422 non-null  float64\n",
      " 18  CompFreq                        44425 non-null  object \n",
      " 19  LanguageHaveWorkedWith          70975 non-null  object \n",
      " 20  LanguageWantToWorkWith          67027 non-null  object \n",
      " 21  DatabaseHaveWorkedWith          60121 non-null  object \n",
      " 22  DatabaseWantToWorkWith          51014 non-null  object \n",
      " 23  PlatformHaveWorkedWith          49924 non-null  object \n",
      " 24  PlatformWantToWorkWith          40415 non-null  object \n",
      " 25  WebframeHaveWorkedWith          53544 non-null  object \n",
      " 26  WebframeWantToWorkWith          46122 non-null  object \n",
      " 27  MiscTechHaveWorkedWith          44992 non-null  object \n",
      " 28  MiscTechWantToWorkWith          36810 non-null  object \n",
      " 29  ToolsTechHaveWorkedWith         54171 non-null  object \n",
      " 30  ToolsTechWantToWorkWith         46566 non-null  object \n",
      " 31  NEWCollabToolsHaveWorkedWith    70347 non-null  object \n",
      " 32  NEWCollabToolsWantToWorkWith    64108 non-null  object \n",
      " 33  OpSysProfessional use           65503 non-null  object \n",
      " 34  OpSysPersonal use               70963 non-null  object \n",
      " 35  VersionControlSystem            71379 non-null  object \n",
      " 36  VCInteraction                   68156 non-null  object \n",
      " 37  VCHostingPersonal use           0 non-null      float64\n",
      " 38  VCHostingProfessional use       0 non-null      float64\n",
      " 39  OfficeStackAsyncHaveWorkedWith  46223 non-null  object \n",
      " 40  OfficeStackAsyncWantToWorkWith  32072 non-null  object \n",
      " 41  OfficeStackSyncHaveWorkedWith   62128 non-null  object \n",
      " 42  OfficeStackSyncWantToWorkWith   47688 non-null  object \n",
      " 43  Blockchain                      71071 non-null  object \n",
      " 44  NEWSOSites                      71365 non-null  object \n",
      " 45  SOVisitFreq                     70961 non-null  object \n",
      " 46  SOAccount                       71572 non-null  object \n",
      " 47  SOPartFreq                      58229 non-null  object \n",
      " 48  SOComm                          71408 non-null  object \n",
      " 49  Age                             70946 non-null  object \n",
      " 50  Gender                          70853 non-null  object \n",
      " 51  Trans                           70315 non-null  object \n",
      " 52  Sexuality                       66565 non-null  object \n",
      " 53  Ethnicity                       69474 non-null  object \n",
      " 54  Accessibility                   67244 non-null  object \n",
      " 55  MentalHealth                    66447 non-null  object \n",
      " 56  TBranch                         52670 non-null  object \n",
      " 57  ICorPM                          36283 non-null  object \n",
      " 58  WorkExp                         36769 non-null  float64\n",
      " 59  Knowledge_1                     35804 non-null  object \n",
      " 60  Knowledge_2                     34973 non-null  object \n",
      " 61  Knowledge_3                     35133 non-null  object \n",
      " 62  Knowledge_4                     35097 non-null  object \n",
      " 63  Knowledge_5                     35014 non-null  object \n",
      " 64  Knowledge_6                     34991 non-null  object \n",
      " 65  Knowledge_7                     34977 non-null  object \n",
      " 66  Frequency_1                     35371 non-null  object \n",
      " 67  Frequency_2                     35344 non-null  object \n",
      " 68  Frequency_3                     34515 non-null  object \n",
      " 69  TimeSearching                   36198 non-null  object \n",
      " 70  TimeAnswering                   36022 non-null  object \n",
      " 71  Onboarding                      35679 non-null  object \n",
      " 72  ProfessionalTech                34906 non-null  object \n",
      " 73  TrueFalse_1                     35819 non-null  object \n",
      " 74  TrueFalse_2                     35715 non-null  object \n",
      " 75  TrueFalse_3                     35749 non-null  object \n",
      " 76  SurveyLength                    70444 non-null  object \n",
      " 77  SurveyEase                      70508 non-null  object \n",
      " 78  ConvertedCompYearly             38071 non-null  float64\n",
      "dtypes: float64(5), int64(1), object(73)\n",
      "memory usage: 44.2+ MB\n",
      "<class 'pandas.core.frame.DataFrame'>\n",
      "RangeIndex: 89184 entries, 0 to 89183\n",
      "Data columns (total 84 columns):\n",
      " #   Column                               Non-Null Count  Dtype  \n",
      "---  ------                               --------------  -----  \n",
      " 0   ResponseId                           89184 non-null  int64  \n",
      " 1   Q120                                 89184 non-null  object \n",
      " 2   MainBranch                           89184 non-null  object \n",
      " 3   Age                                  89184 non-null  object \n",
      " 4   Employment                           87898 non-null  object \n",
      " 5   RemoteWork                           73810 non-null  object \n",
      " 6   CodingActivities                     73764 non-null  object \n",
      " 7   EdLevel                              87973 non-null  object \n",
      " 8   LearnCode                            87663 non-null  object \n",
      " 9   LearnCodeOnline                      70084 non-null  object \n",
      " 10  LearnCodeCoursesCert                 37076 non-null  object \n",
      " 11  YearsCode                            87435 non-null  object \n",
      " 12  YearsCodePro                         66136 non-null  object \n",
      " 13  DevType                              76872 non-null  object \n",
      " 14  OrgSize                              65043 non-null  object \n",
      " 15  PurchaseInfluence                    64964 non-null  object \n",
      " 16  TechList                             60851 non-null  object \n",
      " 17  BuyNewTool                           83009 non-null  object \n",
      " 18  Country                              87973 non-null  object \n",
      " 19  Currency                             65334 non-null  object \n",
      " 20  CompTotal                            48225 non-null  float64\n",
      " 21  LanguageHaveWorkedWith               87140 non-null  object \n",
      " 22  LanguageWantToWorkWith               80709 non-null  object \n",
      " 23  DatabaseHaveWorkedWith               73435 non-null  object \n",
      " 24  DatabaseWantToWorkWith               60911 non-null  object \n",
      " 25  PlatformHaveWorkedWith               63628 non-null  object \n",
      " 26  PlatformWantToWorkWith               51308 non-null  object \n",
      " 27  WebframeHaveWorkedWith               66938 non-null  object \n",
      " 28  WebframeWantToWorkWith               56741 non-null  object \n",
      " 29  MiscTechHaveWorkedWith               57019 non-null  object \n",
      " 30  MiscTechWantToWorkWith               46848 non-null  object \n",
      " 31  ToolsTechHaveWorkedWith              77884 non-null  object \n",
      " 32  ToolsTechWantToWorkWith              68315 non-null  object \n",
      " 33  NEWCollabToolsHaveWorkedWith         85864 non-null  object \n",
      " 34  NEWCollabToolsWantToWorkWith         76649 non-null  object \n",
      " 35  OpSysPersonal use                    86557 non-null  object \n",
      " 36  OpSysProfessional use                78587 non-null  object \n",
      " 37  OfficeStackAsyncHaveWorkedWith       69090 non-null  object \n",
      " 38  OfficeStackAsyncWantToWorkWith       53743 non-null  object \n",
      " 39  OfficeStackSyncHaveWorkedWith        83439 non-null  object \n",
      " 40  OfficeStackSyncWantToWorkWith        69776 non-null  object \n",
      " 41  AISearchHaveWorkedWith               56328 non-null  object \n",
      " 42  AISearchWantToWorkWith               46150 non-null  object \n",
      " 43  AIDevHaveWorkedWith                  25904 non-null  object \n",
      " 44  AIDevWantToWorkWith                  19587 non-null  object \n",
      " 45  NEWSOSites                           87973 non-null  object \n",
      " 46  SOVisitFreq                          87140 non-null  object \n",
      " 47  SOAccount                            87852 non-null  object \n",
      " 48  SOPartFreq                           66061 non-null  object \n",
      " 49  SOComm                               87692 non-null  object \n",
      " 50  SOAI                                 47858 non-null  object \n",
      " 51  AISelect                             87973 non-null  object \n",
      " 52  AISent                               61501 non-null  object \n",
      " 53  AIAcc                                38594 non-null  object \n",
      " 54  AIBen                                61396 non-null  object \n",
      " 55  AIToolInterested in Using            32783 non-null  object \n",
      " 56  AIToolCurrently Using                36137 non-null  object \n",
      " 57  AIToolNot interested in Using        21069 non-null  object \n",
      " 58  AINextVery different                 12661 non-null  object \n",
      " 59  AINextNeither different nor similar  6599 non-null   object \n",
      " 60  AINextSomewhat similar               6238 non-null   object \n",
      " 61  AINextVery similar                   2621 non-null   object \n",
      " 62  AINextSomewhat different             23303 non-null  object \n",
      " 63  TBranch                              65768 non-null  object \n",
      " 64  ICorPM                               43668 non-null  object \n",
      " 65  WorkExp                              43579 non-null  float64\n",
      " 66  Knowledge_1                          42535 non-null  object \n",
      " 67  Knowledge_2                          41670 non-null  object \n",
      " 68  Knowledge_3                          41798 non-null  object \n",
      " 69  Knowledge_4                          41684 non-null  object \n",
      " 70  Knowledge_5                          41527 non-null  object \n",
      " 71  Knowledge_6                          41520 non-null  object \n",
      " 72  Knowledge_7                          41467 non-null  object \n",
      " 73  Knowledge_8                          41404 non-null  object \n",
      " 74  Frequency_1                          41916 non-null  object \n",
      " 75  Frequency_2                          41925 non-null  object \n",
      " 76  Frequency_3                          41054 non-null  object \n",
      " 77  TimeSearching                        42778 non-null  object \n",
      " 78  TimeAnswering                        42629 non-null  object \n",
      " 79  ProfessionalTech                     41783 non-null  object \n",
      " 80  Industry                             36774 non-null  object \n",
      " 81  SurveyLength                         86485 non-null  object \n",
      " 82  SurveyEase                           86554 non-null  object \n",
      " 83  ConvertedCompYearly                  48019 non-null  float64\n",
      "dtypes: float64(3), int64(1), object(80)\n",
      "memory usage: 57.2+ MB\n",
      "<class 'pandas.core.frame.DataFrame'>\n",
      "RangeIndex: 65437 entries, 0 to 65436\n",
      "Columns: 114 entries, ResponseId to JobSat\n",
      "dtypes: float64(13), int64(1), object(100)\n",
      "memory usage: 56.9+ MB\n"
     ]
    },
    {
     "data": {
      "text/plain": "((None,\n        qid       qname                                           question  \\\n  0   QID16          S0  <div><span style=\"font-size:19px;\"><strong>Hel...   \n  1   QID12    MetaInfo                                  Browser Meta Info   \n  2    QID1          S1  <span style=\"font-size:22px; font-family: aria...   \n  3    QID2  MainBranch  Which of the following options best describes ...   \n  4  QID296  Employment  Which of the following best describes your cur...   \n  \n    force_resp  type selector  \n  0      False    DB       TB  \n  1      False  Meta  Browser  \n  2      False    DB       TB  \n  3       True    MC     SAVR  \n  4      False    MC     MAVR  ),\n (None,\n        qid     qname                                           question  \\\n  0   QID16        S0  <div><span style=\"font-size:19px;\"><strong>Hel...   \n  1   QID12  MetaInfo                                  Browser Meta Info   \n  2  QID310      Q310  <div><span style=\"font-size:19px;\"><strong>You...   \n  3  QID312      Q120                                                      \n  4    QID1        S1  <span style=\"font-size:22px; font-family: aria...   \n  \n    force_resp  type selector  \n  0      False    DB       TB  \n  1      False  Meta  Browser  \n  2      False    DB       TB  \n  3       True    MC     SAVR  \n  4      False    DB       TB  ),\n (None,\n        qid       qname                                           question  \\\n  0    QID2  MainBranch  Which of the following options best describes ...   \n  1  QID127         Age                                 What is your age?*   \n  2  QID296  Employment  Which of the following best describes your cur...   \n  3  QID308  RemoteWork  Which best describes your current work situation?   \n  4  QID341       Check  Just checking to make sure you are paying atte...   \n  \n    force_resp type selector  \n  0       True   MC     SAVR  \n  1       True   MC     SAVR  \n  2       True   MC     MAVR  \n  3      False   MC     SAVR  \n  4       True   MC     SAVR  ))"
     },
     "execution_count": 17,
     "metadata": {},
     "output_type": "execute_result"
    }
   ],
   "source": [
    "# Cargar los datos y los esquemas\n",
    "dataframes = {}\n",
    "schemas = {}\n",
    "\n",
    "for year, paths in files.items():\n",
    "    dataframes[year] = pd.read_csv(paths[\"data\"])\n",
    "    schemas[year] = pd.read_csv(paths[\"schema\"])\n",
    "\n",
    "# Verificar estructura de datos y columnas clave\n",
    "info_2022 = dataframes[\"2022\"].info(), schemas[\"2022\"].head()\n",
    "info_2023 = dataframes[\"2023\"].info(), schemas[\"2023\"].head()\n",
    "info_2024 = dataframes[\"2024\"].info(), schemas[\"2024\"].head()\n",
    "\n",
    "info_2022, info_2023, info_2024\n"
   ],
   "metadata": {
    "collapsed": false
   }
  },
  {
   "cell_type": "markdown",
   "source": [
    "Podemos observar que comparten muchas columnas relevantes para identificar tendencias tecnológicas.\n",
    "Columnas clave para el análisis\n",
    "Las siguientes columnas son las más relevantes y están disponibles en los tres datasets:\n",
    "\n",
    "LanguageHaveWorkedWith: Lenguajes utilizados actualmente.\n",
    "LanguageWantToWorkWith: Lenguajes deseados el próximo año.\n",
    "DevType: Roles de desarrolladores (frontend, backend, DevOps, etc.).\n",
    "LearnCode y LearnCodeOnline: Métodos de aprendizaje preferidos.\n",
    "\n",
    "- Extraeremos los datos de las columnas clave de cada año.\n",
    "- Unificaremos los datos en un único DataFrame para analizar las tendencias entre 2022, 2023 y 2024."
   ],
   "metadata": {
    "collapsed": false
   }
  },
  {
   "cell_type": "code",
   "execution_count": 18,
   "outputs": [
    {
     "name": "stdout",
     "output_type": "stream",
     "text": [
      "<class 'pandas.core.frame.DataFrame'>\n",
      "RangeIndex: 227889 entries, 0 to 227888\n",
      "Data columns (total 6 columns):\n",
      " #   Column                  Non-Null Count   Dtype \n",
      "---  ------                  --------------   ----- \n",
      " 0   LanguageHaveWorkedWith  217860 non-null  object\n",
      " 1   LanguageWantToWorkWith  203488 non-null  object\n",
      " 2   DevType                 197619 non-null  object\n",
      " 3   LearnCode               219731 non-null  object\n",
      " 4   LearnCodeOnline         170006 non-null  object\n",
      " 5   Year                    227889 non-null  int64 \n",
      "dtypes: int64(1), object(5)\n",
      "memory usage: 10.4+ MB\n"
     ]
    },
    {
     "data": {
      "text/plain": "(None,\n                         LanguageHaveWorkedWith  \\\n 0                                          NaN   \n 1                        JavaScript;TypeScript   \n 2            C#;C++;HTML/CSS;JavaScript;Python   \n 3                 C#;JavaScript;SQL;TypeScript   \n 4  C#;HTML/CSS;JavaScript;SQL;Swift;TypeScript   \n \n                        LanguageWantToWorkWith  \\\n 0                                         NaN   \n 1                             Rust;TypeScript   \n 2       C#;C++;HTML/CSS;JavaScript;TypeScript   \n 3                           C#;SQL;TypeScript   \n 4  C#;Elixir;F#;Go;JavaScript;Rust;TypeScript   \n \n                                              DevType  \\\n 0                                                NaN   \n 1                                                NaN   \n 2  Data scientist or machine learning specialist;...   \n 3                              Developer, full-stack   \n 4  Developer, front-end;Developer, full-stack;Dev...   \n \n                                            LearnCode  \\\n 0                                                NaN   \n 1                                                NaN   \n 2  Books / Physical media;Friend or family member...   \n 3  Books / Physical media;School (i.e., Universit...   \n 4  Other online resources (e.g., videos, blogs, f...   \n \n                                      LearnCodeOnline  Year  \n 0                                                NaN  2022  \n 1                                                NaN  2022  \n 2  Technical documentation;Blogs;Programming Game...  2022  \n 3                                                NaN  2022  \n 4  Technical documentation;Blogs;Stack Overflow;O...  2022  )"
     },
     "execution_count": 18,
     "metadata": {},
     "output_type": "execute_result"
    }
   ],
   "source": [
    "# Seleccionar columnas clave y consolidar los datasets de 2022, 2023 y 2024\n",
    "columns_of_interest = [\n",
    "    \"LanguageHaveWorkedWith\",\n",
    "    \"LanguageWantToWorkWith\",\n",
    "    \"DevType\",\n",
    "    \"LearnCode\",\n",
    "    \"LearnCodeOnline\"\n",
    "]\n",
    "\n",
    "# Crear un DataFrame combinado con los años como una columna adicional\n",
    "combined_data = pd.DataFrame()\n",
    "\n",
    "for year, df in dataframes.items():\n",
    "    if all(col in df.columns for col in columns_of_interest):\n",
    "        temp_df = df[columns_of_interest].copy()\n",
    "        temp_df[\"Year\"] = int(year)\n",
    "        combined_data = pd.concat([combined_data, temp_df], ignore_index=True)\n",
    "\n",
    "# Mostrar la estructura del DataFrame consolidado\n",
    "combined_data.info(), combined_data.head()\n"
   ],
   "metadata": {
    "collapsed": false
   }
  },
  {
   "cell_type": "markdown",
   "source": [
    "El DataFrame consolidado tiene 227,889 registros combinados de los años 2022, 2023 y 2024. Contiene las columnas clave:\n",
    "\n",
    "LanguageHaveWorkedWith: Lenguajes trabajados actualmente (217,860 registros no nulos).\n",
    "LanguageWantToWorkWith: Lenguajes deseados (203,488 registros no nulos).\n",
    "DevType: Roles de desarrolladores (197,619 registros no nulos).\n",
    "LearnCode y LearnCodeOnline: Métodos de aprendizaje (algunos valores nulos, pero suficientes datos para analizar).\n",
    "Year: Año correspondiente (agregado para análisis de tendencias)."
   ],
   "metadata": {
    "collapsed": false
   }
  },
  {
   "cell_type": "markdown",
   "source": [
    "Vamos a separar los lenguajes en listas para facilitar el análisis y contar frecuencias de lenguajes por año."
   ],
   "metadata": {
    "collapsed": false
   }
  },
  {
   "cell_type": "code",
   "execution_count": 38,
   "outputs": [
    {
     "data": {
      "text/plain": "(     Language  Frequency\n 0  JavaScript      37492\n 1    HTML/CSS      31816\n 2      Python      30719\n 3         SQL      30682\n 4  TypeScript      23150,\n      Language  Frequency\n 0      Python      25047\n 1  JavaScript      23774\n 2         SQL      22400\n 3    HTML/CSS      20721\n 4  TypeScript      20239)"
     },
     "execution_count": 38,
     "metadata": {},
     "output_type": "execute_result"
    }
   ],
   "source": [
    "# Función para procesar columnas de lenguajes y contar frecuencias\n",
    "def count_language_frequencies(data, column, year):\n",
    "    \"\"\"\n",
    "    Cuenta la frecuencia de lenguajes en una columna específica para un año dado.\n",
    "\n",
    "    :param data: DataFrame consolidado.\n",
    "    :param column: Nombre de la columna a procesar.\n",
    "    :param year: Año para filtrar los datos.\n",
    "    :return: DataFrame con lenguajes y sus frecuencias.\n",
    "    \"\"\"\n",
    "    filtered_data = data[data[\"Year\"] == year][column].dropna()\n",
    "    # Separar lenguajes en listas individuales\n",
    "    languages = filtered_data.str.split(\";\").explode()\n",
    "    # Contar frecuencias\n",
    "    result = languages.value_counts().reset_index()\n",
    "    result.columns = [\"Language\", \"Frequency\"]  # Renombrar columnas explícitamente\n",
    "    return result\n",
    "\n",
    "language_usage = {}\n",
    "language_desired = {}\n",
    "\n",
    "for year in [2022, 2023, 2024]:\n",
    "    language_usage[year] = count_language_frequencies(combined_data, \"LanguageHaveWorkedWith\", year)\n",
    "    language_desired[year] = count_language_frequencies(combined_data, \"LanguageWantToWorkWith\", year)\n",
    "\n",
    "\n",
    "\n",
    "# Mostrar las frecuencias de 2024 como ejemplo\n",
    "language_usage[2024].head(), language_desired[2024].head()\n"
   ],
   "metadata": {
    "collapsed": false
   }
  },
  {
   "cell_type": "markdown",
   "source": [
    "### Lenguajes más trabajados y más deseados en 2024\n",
    "- Lenguajes más trabajados en 2024 (LanguageHaveWorkedWith):\n",
    "\n",
    "1. JavaScript (37,492 menciones)\n",
    "2. HTML/CSS (31,816 menciones)\n",
    "3. Python (30,719 menciones)\n",
    "4. SQL (30,682 menciones)\n",
    "5. TypeScript (23,150 menciones)\n",
    "\n",
    "- Lenguajes más deseados en 2024 (LanguageWantToWorkWith):\n",
    "\n",
    "1. Python (25,047 menciones)\n",
    "2. JavaScript (23,774 menciones)\n",
    "3. SQL (22,400 menciones)\n",
    "4. HTML/CSS (20,721 menciones)\n",
    "5. TypeScript (20,239 menciones)"
   ],
   "metadata": {
    "collapsed": false
   }
  },
  {
   "cell_type": "markdown",
   "source": [
    "### Comparar tendencias\n",
    "Vamos a calcular el crecimiento relativo de cada lenguaje (deseado - utilizado), identificar los lenguajes con mayor crecimiento y aquellos en declive y mostrar los resultados como tablas o listas."
   ],
   "metadata": {
    "collapsed": false
   }
  },
  {
   "cell_type": "code",
   "execution_count": 40,
   "outputs": [
    {
     "data": {
      "text/plain": "(   Language  Frequency_Used  Frequency_Desired  Growth\n 39     Rust            7559              17232    9673\n 17       Go            8103              13837    5734\n 48      Zig             667               3688    3021\n 24   Kotlin            5665               7379    1714\n 12   Elixir            1243               2895    1652,\n                    Language  Frequency_Used  Frequency_Desired  Growth\n 3   Bash/Shell (all shells)           20412              13744   -6668\n 21                     Java           18239              10668   -7571\n 40                      SQL           30682              22400   -8282\n 19                 HTML/CSS           31816              20721  -11095\n 22               JavaScript           37492              23774  -13718)"
     },
     "execution_count": 40,
     "metadata": {},
     "output_type": "execute_result"
    }
   ],
   "source": [
    "# Función para calcular tendencias de crecimiento entre lenguajes trabajados y deseados\n",
    "def calculate_language_trends(usage, desired):\n",
    "    \"\"\"\n",
    "    Calcula las diferencias entre frecuencias de lenguajes trabajados y deseados.\n",
    "\n",
    "    :param usage: DataFrame de lenguajes trabajados con sus frecuencias.\n",
    "    :param desired: DataFrame de lenguajes deseados con sus frecuencias.\n",
    "    :return: DataFrame con tendencias de crecimiento o declive.\n",
    "    \"\"\"\n",
    "    trends = pd.merge(usage, desired, on=\"Language\", how=\"outer\", suffixes=(\"_Used\", \"_Desired\")).fillna(0)\n",
    "    trends[\"Growth\"] = trends[\"Frequency_Desired\"] - trends[\"Frequency_Used\"]\n",
    "    return trends.sort_values(by=\"Growth\", ascending=False)\n",
    "\n",
    "# Calcular tendencias para 2024 como ejemplo\n",
    "trends_2024 = calculate_language_trends(language_usage[2024], language_desired[2024])\n",
    "\n",
    "# Mostrar lenguajes con mayor crecimiento y declive\n",
    "top_growth = trends_2024.head(5)  # Lenguajes con mayor crecimiento\n",
    "top_decline = trends_2024.tail(5)  # Lenguajes en declive\n",
    "top_growth, top_decline\n"
   ],
   "metadata": {
    "collapsed": false
   }
  },
  {
   "cell_type": "markdown",
   "source": [],
   "metadata": {
    "collapsed": false
   }
  },
  {
   "cell_type": "markdown",
   "source": [
    "### Lenguajes con mayor crecimiento (2024)\n",
    "1. Rust: +9,673 menciones.\n",
    "2. Go: +5,734 menciones.\n",
    "3. Zig: +3,021 menciones.\n",
    "4. Kotlin: +1,714 menciones.\n",
    "5. Elixir: +1,652 menciones.\n",
    "\n",
    "Estos lenguajes están ganando popularidad, probablemente debido a su aplicación en sistemas modernos, escalabilidad, y adopción\n",
    "\n",
    "### Lenguajes en declive (2024)\n",
    "1. JavaScript: -13,718 menciones.\n",
    "2. HTML/CSS: -11,095 menciones.\n",
    "3. SQL: -8,282 menciones.\n",
    "4. Java: -7,571 menciones.\n",
    "5. Bash/Shell (all shells): -6,668 menciones.\n",
    "\n",
    "Aunque estos lenguajes son fundamentales, están perdiendo interés como opciones prioritarias para aprender, posiblemente por saturación del mercado"
   ],
   "metadata": {
    "collapsed": false
   }
  },
  {
   "cell_type": "markdown",
   "source": [
    "### Análisis de roles\n",
    "Contunuamos, vamos a:\n",
    "Relacionar los roles (DevType) con los lenguajes trabajados y deseados.\n",
    "Identificar roles emergentes y sus habilidades clave.\n",
    "Mostrar las asociaciones más relevantes."
   ],
   "metadata": {
    "collapsed": false
   }
  },
  {
   "cell_type": "code",
   "execution_count": 23,
   "outputs": [
    {
     "data": {
      "text/plain": "                DevType  Language  WorkedFrequency  DesiredFrequency  Growth\n39  Academic researcher      Rust            199.0             389.0   190.0\n23  Academic researcher     Julia            128.0             212.0    84.0\n48  Academic researcher       Zig             19.0              83.0    64.0\n17  Academic researcher        Go             89.0             146.0    57.0\n24  Academic researcher    Kotlin             64.0              89.0    25.0\n43  Academic researcher     Swift             23.0              48.0    25.0\n12  Academic researcher    Elixir             16.0              40.0    24.0\n20  Academic researcher   Haskell             60.0              84.0    24.0\n7   Academic researcher   Clojure             14.0              26.0    12.0\n30  Academic researcher     OCaml             32.0              44.0    12.0\n13  Academic researcher    Erlang              9.0              20.0    11.0\n25  Academic researcher      Lisp             40.0              51.0    11.0\n16  Academic researcher  GDScript             15.0              25.0    10.0\n9   Academic researcher   Crystal              3.0              10.0     7.0\n29  Academic researcher       Nim              9.0              15.0     6.0\n42  Academic researcher  Solidity             13.0              18.0     5.0\n8   Academic researcher     Cobol              5.0               9.0     4.0\n10  Academic researcher      Dart             35.0              39.0     4.0\n0   Academic researcher       Ada             15.0              18.0     3.0\n14  Academic researcher        F#              6.0               9.0     3.0",
      "text/html": "<div>\n<style scoped>\n    .dataframe tbody tr th:only-of-type {\n        vertical-align: middle;\n    }\n\n    .dataframe tbody tr th {\n        vertical-align: top;\n    }\n\n    .dataframe thead th {\n        text-align: right;\n    }\n</style>\n<table border=\"1\" class=\"dataframe\">\n  <thead>\n    <tr style=\"text-align: right;\">\n      <th></th>\n      <th>DevType</th>\n      <th>Language</th>\n      <th>WorkedFrequency</th>\n      <th>DesiredFrequency</th>\n      <th>Growth</th>\n    </tr>\n  </thead>\n  <tbody>\n    <tr>\n      <th>39</th>\n      <td>Academic researcher</td>\n      <td>Rust</td>\n      <td>199.0</td>\n      <td>389.0</td>\n      <td>190.0</td>\n    </tr>\n    <tr>\n      <th>23</th>\n      <td>Academic researcher</td>\n      <td>Julia</td>\n      <td>128.0</td>\n      <td>212.0</td>\n      <td>84.0</td>\n    </tr>\n    <tr>\n      <th>48</th>\n      <td>Academic researcher</td>\n      <td>Zig</td>\n      <td>19.0</td>\n      <td>83.0</td>\n      <td>64.0</td>\n    </tr>\n    <tr>\n      <th>17</th>\n      <td>Academic researcher</td>\n      <td>Go</td>\n      <td>89.0</td>\n      <td>146.0</td>\n      <td>57.0</td>\n    </tr>\n    <tr>\n      <th>24</th>\n      <td>Academic researcher</td>\n      <td>Kotlin</td>\n      <td>64.0</td>\n      <td>89.0</td>\n      <td>25.0</td>\n    </tr>\n    <tr>\n      <th>43</th>\n      <td>Academic researcher</td>\n      <td>Swift</td>\n      <td>23.0</td>\n      <td>48.0</td>\n      <td>25.0</td>\n    </tr>\n    <tr>\n      <th>12</th>\n      <td>Academic researcher</td>\n      <td>Elixir</td>\n      <td>16.0</td>\n      <td>40.0</td>\n      <td>24.0</td>\n    </tr>\n    <tr>\n      <th>20</th>\n      <td>Academic researcher</td>\n      <td>Haskell</td>\n      <td>60.0</td>\n      <td>84.0</td>\n      <td>24.0</td>\n    </tr>\n    <tr>\n      <th>7</th>\n      <td>Academic researcher</td>\n      <td>Clojure</td>\n      <td>14.0</td>\n      <td>26.0</td>\n      <td>12.0</td>\n    </tr>\n    <tr>\n      <th>30</th>\n      <td>Academic researcher</td>\n      <td>OCaml</td>\n      <td>32.0</td>\n      <td>44.0</td>\n      <td>12.0</td>\n    </tr>\n    <tr>\n      <th>13</th>\n      <td>Academic researcher</td>\n      <td>Erlang</td>\n      <td>9.0</td>\n      <td>20.0</td>\n      <td>11.0</td>\n    </tr>\n    <tr>\n      <th>25</th>\n      <td>Academic researcher</td>\n      <td>Lisp</td>\n      <td>40.0</td>\n      <td>51.0</td>\n      <td>11.0</td>\n    </tr>\n    <tr>\n      <th>16</th>\n      <td>Academic researcher</td>\n      <td>GDScript</td>\n      <td>15.0</td>\n      <td>25.0</td>\n      <td>10.0</td>\n    </tr>\n    <tr>\n      <th>9</th>\n      <td>Academic researcher</td>\n      <td>Crystal</td>\n      <td>3.0</td>\n      <td>10.0</td>\n      <td>7.0</td>\n    </tr>\n    <tr>\n      <th>29</th>\n      <td>Academic researcher</td>\n      <td>Nim</td>\n      <td>9.0</td>\n      <td>15.0</td>\n      <td>6.0</td>\n    </tr>\n    <tr>\n      <th>42</th>\n      <td>Academic researcher</td>\n      <td>Solidity</td>\n      <td>13.0</td>\n      <td>18.0</td>\n      <td>5.0</td>\n    </tr>\n    <tr>\n      <th>8</th>\n      <td>Academic researcher</td>\n      <td>Cobol</td>\n      <td>5.0</td>\n      <td>9.0</td>\n      <td>4.0</td>\n    </tr>\n    <tr>\n      <th>10</th>\n      <td>Academic researcher</td>\n      <td>Dart</td>\n      <td>35.0</td>\n      <td>39.0</td>\n      <td>4.0</td>\n    </tr>\n    <tr>\n      <th>0</th>\n      <td>Academic researcher</td>\n      <td>Ada</td>\n      <td>15.0</td>\n      <td>18.0</td>\n      <td>3.0</td>\n    </tr>\n    <tr>\n      <th>14</th>\n      <td>Academic researcher</td>\n      <td>F#</td>\n      <td>6.0</td>\n      <td>9.0</td>\n      <td>3.0</td>\n    </tr>\n  </tbody>\n</table>\n</div>"
     },
     "execution_count": 23,
     "metadata": {},
     "output_type": "execute_result"
    }
   ],
   "source": [
    "# Función para analizar roles y asociarlos a lenguajes trabajados y deseados\n",
    "def analyze_roles(data, year):\n",
    "    \"\"\"\n",
    "    Analiza la frecuencia de roles y las habilidades asociadas (lenguajes trabajados y deseados).\n",
    "\n",
    "    :param data: DataFrame consolidado.\n",
    "    :param year: Año para filtrar los datos.\n",
    "    :return: DataFrame con roles, lenguajes y frecuencias.\n",
    "    \"\"\"\n",
    "    filtered_data = data[data[\"Year\"] == year][[\"DevType\", \"LanguageHaveWorkedWith\", \"LanguageWantToWorkWith\"]].dropna()\n",
    "    filtered_data[\"DevType\"] = filtered_data[\"DevType\"].str.split(\";\").explode()\n",
    "\n",
    "    # Asociar roles con lenguajes trabajados\n",
    "    role_language_worked = filtered_data[[\"DevType\", \"LanguageHaveWorkedWith\"]].dropna()\n",
    "    role_language_worked = role_language_worked.assign(Language=role_language_worked[\"LanguageHaveWorkedWith\"].str.split(\";\")).explode(\"Language\")\n",
    "    role_language_worked = role_language_worked.groupby([\"DevType\", \"Language\"]).size().reset_index(name=\"WorkedFrequency\")\n",
    "\n",
    "    # Asociar roles con lenguajes deseados\n",
    "    role_language_desired = filtered_data[[\"DevType\", \"LanguageWantToWorkWith\"]].dropna()\n",
    "    role_language_desired = role_language_desired.assign(Language=role_language_desired[\"LanguageWantToWorkWith\"].str.split(\";\")).explode(\"Language\")\n",
    "    role_language_desired = role_language_desired.groupby([\"DevType\", \"Language\"]).size().reset_index(name=\"DesiredFrequency\")\n",
    "\n",
    "    # Combinar ambos\n",
    "    role_language_trends = pd.merge(role_language_worked, role_language_desired, on=[\"DevType\", \"Language\"], how=\"outer\").fillna(0)\n",
    "    role_language_trends[\"Growth\"] = role_language_trends[\"DesiredFrequency\"] - role_language_trends[\"WorkedFrequency\"]\n",
    "\n",
    "    return role_language_trends.sort_values(by=[\"DevType\", \"Growth\"], ascending=[True, False])\n",
    "\n",
    "# Analizar roles y lenguajes para 2024\n",
    "roles_2024 = analyze_roles(combined_data, 2024)\n",
    "\n",
    "# Mostrar los resultados para los 5 roles más comunes\n",
    "roles_2024.head(20)  # Primeros resultados por DevType y Growth\n"
   ],
   "metadata": {
    "collapsed": false
   }
  },
  {
   "cell_type": "markdown",
   "source": [
    "### Ejemplo: Rol de \"Academic Researcher\"\n",
    "Este rol tiene un crecimiento notable en lenguajes modernos y especializados:\n",
    "\n",
    "1. Rust: +190 menciones.\n",
    "2. Julia: +84 menciones.\n",
    "3. Zig: +64 menciones.\n",
    "4. Go: +57 menciones.\n",
    "5. Kotlin: +25 menciones.\n",
    "Lo que sugiere que investigadores académicos están adoptando lenguajes como Rust y Julia, probablemente debido a su eficiencia en computación científica y sistemas de alto rendimiento."
   ],
   "metadata": {
    "collapsed": false
   }
  },
  {
   "cell_type": "markdown",
   "source": [
    "### Métodos de aprendizaje\n",
    "Ahora vamos a analizar las columnas LearnCode y LearnCodeOnline para identificar los métodos de aprendizaje más utilizados y populares. Esto complementará las tendencias al proporcionar insights sobre cómo prefieren aprender los usuarios."
   ],
   "metadata": {
    "collapsed": false
   }
  },
  {
   "cell_type": "code",
   "execution_count": 24,
   "outputs": [
    {
     "data": {
      "text/plain": "                                               Method  OfflineFrequency  \\\n17  Other online resources (e.g., videos, blogs, f...           49654.0   \n22                            Technical documentation               0.0   \n21                                     Stack Overflow               0.0   \n24                                  Written Tutorials               0.0   \n4                              Books / Physical media           30392.0   \n13                    Online Courses or Certification           30271.0   \n2                                               Blogs               0.0   \n19            School (i.e., University, College, etc)           29722.0   \n12                                On the job training           27244.0   \n10                                      How-to videos               0.0   \n\n    OnlineFrequency  TotalFrequency  \n17              0.0         49654.0  \n22          41267.0         41267.0  \n21          39492.0         39492.0  \n24          33664.0         33664.0  \n4               0.0         30392.0  \n13              0.0         30271.0  \n2           30208.0         30208.0  \n19              0.0         29722.0  \n12              0.0         27244.0  \n10          26668.0         26668.0  ",
      "text/html": "<div>\n<style scoped>\n    .dataframe tbody tr th:only-of-type {\n        vertical-align: middle;\n    }\n\n    .dataframe tbody tr th {\n        vertical-align: top;\n    }\n\n    .dataframe thead th {\n        text-align: right;\n    }\n</style>\n<table border=\"1\" class=\"dataframe\">\n  <thead>\n    <tr style=\"text-align: right;\">\n      <th></th>\n      <th>Method</th>\n      <th>OfflineFrequency</th>\n      <th>OnlineFrequency</th>\n      <th>TotalFrequency</th>\n    </tr>\n  </thead>\n  <tbody>\n    <tr>\n      <th>17</th>\n      <td>Other online resources (e.g., videos, blogs, f...</td>\n      <td>49654.0</td>\n      <td>0.0</td>\n      <td>49654.0</td>\n    </tr>\n    <tr>\n      <th>22</th>\n      <td>Technical documentation</td>\n      <td>0.0</td>\n      <td>41267.0</td>\n      <td>41267.0</td>\n    </tr>\n    <tr>\n      <th>21</th>\n      <td>Stack Overflow</td>\n      <td>0.0</td>\n      <td>39492.0</td>\n      <td>39492.0</td>\n    </tr>\n    <tr>\n      <th>24</th>\n      <td>Written Tutorials</td>\n      <td>0.0</td>\n      <td>33664.0</td>\n      <td>33664.0</td>\n    </tr>\n    <tr>\n      <th>4</th>\n      <td>Books / Physical media</td>\n      <td>30392.0</td>\n      <td>0.0</td>\n      <td>30392.0</td>\n    </tr>\n    <tr>\n      <th>13</th>\n      <td>Online Courses or Certification</td>\n      <td>30271.0</td>\n      <td>0.0</td>\n      <td>30271.0</td>\n    </tr>\n    <tr>\n      <th>2</th>\n      <td>Blogs</td>\n      <td>0.0</td>\n      <td>30208.0</td>\n      <td>30208.0</td>\n    </tr>\n    <tr>\n      <th>19</th>\n      <td>School (i.e., University, College, etc)</td>\n      <td>29722.0</td>\n      <td>0.0</td>\n      <td>29722.0</td>\n    </tr>\n    <tr>\n      <th>12</th>\n      <td>On the job training</td>\n      <td>27244.0</td>\n      <td>0.0</td>\n      <td>27244.0</td>\n    </tr>\n    <tr>\n      <th>10</th>\n      <td>How-to videos</td>\n      <td>0.0</td>\n      <td>26668.0</td>\n      <td>26668.0</td>\n    </tr>\n  </tbody>\n</table>\n</div>"
     },
     "execution_count": 24,
     "metadata": {},
     "output_type": "execute_result"
    }
   ],
   "source": [
    "# Función para analizar métodos de aprendizaje preferidos\n",
    "def analyze_learning_methods(data, year):\n",
    "    \"\"\"\n",
    "    Analiza las preferencias de aprendizaje (métodos offline y online) para un año específico.\n",
    "\n",
    "    :param data: DataFrame consolidado.\n",
    "    :param year: Año para filtrar los datos.\n",
    "    :return: DataFrame con métodos de aprendizaje y sus frecuencias.\n",
    "    \"\"\"\n",
    "    filtered_data = data[data[\"Year\"] == year]\n",
    "\n",
    "    # Métodos offline (LearnCode)\n",
    "    offline_methods = filtered_data[\"LearnCode\"].dropna().str.split(\";\").explode()\n",
    "    offline_frequencies = offline_methods.value_counts().reset_index()\n",
    "    offline_frequencies.columns = [\"Method\", \"OfflineFrequency\"]\n",
    "\n",
    "    # Métodos online (LearnCodeOnline)\n",
    "    online_methods = filtered_data[\"LearnCodeOnline\"].dropna().str.split(\";\").explode()\n",
    "    online_frequencies = online_methods.value_counts().reset_index()\n",
    "    online_frequencies.columns = [\"Method\", \"OnlineFrequency\"]\n",
    "\n",
    "    # Combinar ambos\n",
    "    learning_methods = pd.merge(offline_frequencies, online_frequencies, on=\"Method\", how=\"outer\").fillna(0)\n",
    "    learning_methods[\"TotalFrequency\"] = learning_methods[\"OfflineFrequency\"] + learning_methods[\"OnlineFrequency\"]\n",
    "\n",
    "    return learning_methods.sort_values(by=\"TotalFrequency\", ascending=False)\n",
    "\n",
    "# Analizar métodos de aprendizaje para 2024\n",
    "learning_methods_2024 = analyze_learning_methods(combined_data, 2024)\n",
    "\n",
    "# Mostrar los métodos más populares\n",
    "learning_methods_2024.head(10)\n"
   ],
   "metadata": {
    "collapsed": false
   }
  },
  {
   "cell_type": "markdown",
   "source": [
    "#### Métodos más utilizados\n",
    "1. Otros recursos en línea (videos, blogs, foros): 49,654 menciones.\n",
    "2. Documentación técnica: 41,267 menciones (exclusivo para métodos en línea).\n",
    "3. Stack Overflow: 39,492 menciones (también en línea).\n",
    "4. Libros o materiales físicos: 30,392 menciones.\n",
    "5. Cursos en línea o certificaciones: 30,271 menciones.\n",
    "Poidemos observar que los desarrolladores prefieren combinar recursos en línea como blogs, foros, y plataformas especializadasy que las certificaciones y cursos en línea siguen siendo relevantes, reflejando una gran oportunidad para plataformas de aprendizaje."
   ],
   "metadata": {
    "collapsed": false
   }
  },
  {
   "cell_type": "markdown",
   "source": [
    "Pasamos esto a un script para su integracion en la app, path: app/components/tendencies.py"
   ],
   "metadata": {
    "collapsed": false
   }
  },
  {
   "cell_type": "code",
   "execution_count": null,
   "outputs": [],
   "source": [],
   "metadata": {
    "collapsed": false
   }
  }
 ],
 "metadata": {
  "kernelspec": {
   "display_name": "Python 3",
   "language": "python",
   "name": "python3"
  },
  "language_info": {
   "codemirror_mode": {
    "name": "ipython",
    "version": 2
   },
   "file_extension": ".py",
   "mimetype": "text/x-python",
   "name": "python",
   "nbconvert_exporter": "python",
   "pygments_lexer": "ipython2",
   "version": "2.7.6"
  }
 },
 "nbformat": 4,
 "nbformat_minor": 0
}
