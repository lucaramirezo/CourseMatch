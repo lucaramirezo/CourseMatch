{
 "cells": [
  {
   "cell_type": "markdown",
   "source": [
    "# Sistema de Recomendación de Cursos\n",
    "\n",
    "## Introducción\n",
    "Este notebook desarrolla un sistema de recomendación de cursos basado en técnicas de procesamiento de lenguaje natural (NLP). Usaremos el dataset de cursos que contiene información sobre los nombres de los cursos, habilidades requeridas, nivel de dificultad y la plataforma donde se ofrecen. Nuestro objetivo es recomendar cursos similares basados en la entrada del usuario."
   ],
   "metadata": {
    "collapsed": false
   }
  },
  {
   "cell_type": "markdown",
   "source": [
    "### Librerias"
   ],
   "metadata": {
    "collapsed": false
   }
  },
  {
   "cell_type": "code",
   "execution_count": 26,
   "outputs": [],
   "source": [
    "import pandas as pd\n",
    "from sklearn.feature_extraction.text import TfidfVectorizer, CountVectorizer\n",
    "from sklearn.metrics.pairwise import cosine_similarity\n",
    "import matplotlib.pyplot as plt\n",
    "import seaborn as sns"
   ],
   "metadata": {
    "collapsed": false
   }
  },
  {
   "cell_type": "markdown",
   "source": [
    "## Cargar el Dataset\n",
    "Cargaremos el dataset y exploraremos su estructura para comprender las variables disponibles."
   ],
   "metadata": {
    "collapsed": false
   }
  },
  {
   "cell_type": "code",
   "execution_count": 27,
   "outputs": [],
   "source": [
    "courses_path = 'data/courses_cleaned_dataset.csv'\n",
    "courses_data = pd.read_csv(courses_path)"
   ],
   "metadata": {
    "collapsed": false
   }
  },
  {
   "cell_type": "code",
   "execution_count": 28,
   "outputs": [
    {
     "name": "stdout",
     "output_type": "stream",
     "text": [
      "\n",
      "Primeras filas del dataset:\n"
     ]
    },
    {
     "data": {
      "text/plain": "       Course_Name  Level  Rating  \\\n0    Data Engineer      1     4.6   \n1   Data Scientist      2     4.7   \n2     Data Analyst      1     4.6   \n3              C++      1     4.6   \n4  Product Manager      0     4.7   \n\n                                              Skills  Number of students  \\\n0  Data Modeling, Data Pipelines, Data Lakes, Spa...               98175   \n1  Machine Learning, Deep Learning, Software Engi...               89044   \n2  Data Wrangling, Matplotlib, Bootstrapping, Pan...               88873   \n3  Data Structures &amp; Algorithms, Memory Manag...               86627   \n4  Product Strategy, Product Design, Product Deve...               99575   \n\n  Platform  \n0  Udacity  \n1  Udacity  \n2  Udacity  \n3  Udacity  \n4  Udacity  ",
      "text/html": "<div>\n<style scoped>\n    .dataframe tbody tr th:only-of-type {\n        vertical-align: middle;\n    }\n\n    .dataframe tbody tr th {\n        vertical-align: top;\n    }\n\n    .dataframe thead th {\n        text-align: right;\n    }\n</style>\n<table border=\"1\" class=\"dataframe\">\n  <thead>\n    <tr style=\"text-align: right;\">\n      <th></th>\n      <th>Course_Name</th>\n      <th>Level</th>\n      <th>Rating</th>\n      <th>Skills</th>\n      <th>Number of students</th>\n      <th>Platform</th>\n    </tr>\n  </thead>\n  <tbody>\n    <tr>\n      <th>0</th>\n      <td>Data Engineer</td>\n      <td>1</td>\n      <td>4.6</td>\n      <td>Data Modeling, Data Pipelines, Data Lakes, Spa...</td>\n      <td>98175</td>\n      <td>Udacity</td>\n    </tr>\n    <tr>\n      <th>1</th>\n      <td>Data Scientist</td>\n      <td>2</td>\n      <td>4.7</td>\n      <td>Machine Learning, Deep Learning, Software Engi...</td>\n      <td>89044</td>\n      <td>Udacity</td>\n    </tr>\n    <tr>\n      <th>2</th>\n      <td>Data Analyst</td>\n      <td>1</td>\n      <td>4.6</td>\n      <td>Data Wrangling, Matplotlib, Bootstrapping, Pan...</td>\n      <td>88873</td>\n      <td>Udacity</td>\n    </tr>\n    <tr>\n      <th>3</th>\n      <td>C++</td>\n      <td>1</td>\n      <td>4.6</td>\n      <td>Data Structures &amp;amp; Algorithms, Memory Manag...</td>\n      <td>86627</td>\n      <td>Udacity</td>\n    </tr>\n    <tr>\n      <th>4</th>\n      <td>Product Manager</td>\n      <td>0</td>\n      <td>4.7</td>\n      <td>Product Strategy, Product Design, Product Deve...</td>\n      <td>99575</td>\n      <td>Udacity</td>\n    </tr>\n  </tbody>\n</table>\n</div>"
     },
     "execution_count": 28,
     "metadata": {},
     "output_type": "execute_result"
    }
   ],
   "source": [
    "# Explorar el dataset\n",
    "print(\"\\nPrimeras filas del dataset:\")\n",
    "\n",
    "courses_data.head()"
   ],
   "metadata": {
    "collapsed": false
   }
  },
  {
   "cell_type": "code",
   "execution_count": 5,
   "outputs": [
    {
     "name": "stdout",
     "output_type": "stream",
     "text": [
      "\n",
      "Información general del dataset:\n",
      "<class 'pandas.core.frame.DataFrame'>\n",
      "RangeIndex: 2377 entries, 0 to 2376\n",
      "Data columns (total 6 columns):\n",
      " #   Column              Non-Null Count  Dtype  \n",
      "---  ------              --------------  -----  \n",
      " 0   Course_Name         2377 non-null   object \n",
      " 1   Level               2377 non-null   int64  \n",
      " 2   Rating              2377 non-null   float64\n",
      " 3   Skills              2377 non-null   object \n",
      " 4   Number of students  2377 non-null   int64  \n",
      " 5   Platform            2377 non-null   object \n",
      "dtypes: float64(1), int64(2), object(3)\n",
      "memory usage: 111.6+ KB\n"
     ]
    }
   ],
   "source": [
    "print(\"\\nInformación general del dataset:\")\n",
    "courses_data.info()"
   ],
   "metadata": {
    "collapsed": false
   }
  },
  {
   "cell_type": "markdown",
   "source": [
    "### Quitarnos Duplicados"
   ],
   "metadata": {
    "collapsed": false
   }
  },
  {
   "cell_type": "code",
   "execution_count": 6,
   "outputs": [],
   "source": [
    "# Eliminar duplicados en el dataset base\n",
    "courses_data = courses_data.drop_duplicates(subset='Course_Name').reset_index(drop=True)"
   ],
   "metadata": {
    "collapsed": false
   }
  },
  {
   "cell_type": "markdown",
   "source": [
    "### Distribucion de calificaciones"
   ],
   "metadata": {
    "collapsed": false
   }
  },
  {
   "cell_type": "code",
   "execution_count": 7,
   "outputs": [
    {
     "data": {
      "text/plain": "<Figure size 800x600 with 1 Axes>",
      "image/png": "[encoded data removed]"
     },
     "metadata": {},
     "output_type": "display_data"
    }
   ],
   "source": [
    "plt.figure(figsize=(8, 6))\n",
    "plt.hist(courses_data['Rating'], bins=20, edgecolor='black', alpha=0.7)\n",
    "plt.title('Distribución de Calificaciones', fontsize=14)\n",
    "plt.xlabel('Rating', fontsize=12)\n",
    "plt.ylabel('Número de cursos', fontsize=12)\n",
    "plt.grid(axis='y', linestyle='--', alpha=0.7)\n",
    "plt.show()"
   ],
   "metadata": {
    "collapsed": false
   }
  },
  {
   "cell_type": "markdown",
   "source": [
    "### Cantidad de cursos por nivel de dificultad"
   ],
   "metadata": {
    "collapsed": false
   }
  },
  {
   "cell_type": "code",
   "execution_count": 8,
   "outputs": [
    {
     "data": {
      "text/plain": "<Figure size 800x600 with 1 Axes>",
      "image/png": "[encoded data removed]"
     },
     "metadata": {},
     "output_type": "display_data"
    }
   ],
   "source": [
    "plt.figure(figsize=(8, 6))\n",
    "courses_data['Level'].value_counts().sort_index().plot(kind='bar', color='skyblue', edgecolor='black')\n",
    "plt.title('Cantidad de Cursos por Nivel', fontsize=14)\n",
    "plt.xlabel('Nivel', fontsize=12)\n",
    "plt.ylabel('Número de cursos', fontsize=12)\n",
    "plt.grid(axis='y', linestyle='--', alpha=0.7)\n",
    "plt.xticks(rotation=0)\n",
    "plt.show()"
   ],
   "metadata": {
    "collapsed": false
   }
  },
  {
   "cell_type": "markdown",
   "source": [
    "### Popularidad (num de estudiantes)"
   ],
   "metadata": {
    "collapsed": false
   }
  },
  {
   "cell_type": "code",
   "execution_count": 9,
   "outputs": [
    {
     "data": {
      "text/plain": "<Figure size 800x600 with 1 Axes>",
      "image/png": "[encoded data removed]"
     },
     "metadata": {},
     "output_type": "display_data"
    }
   ],
   "source": [
    "plt.figure(figsize=(8, 6))\n",
    "plt.hist(courses_data['Number of students'], bins=20, edgecolor='black', alpha=0.7)\n",
    "plt.title('Distribución del Número de Estudiantes por Curso', fontsize=14)\n",
    "plt.xlabel('Número de estudiantes', fontsize=12)\n",
    "plt.ylabel('Frecuencia', fontsize=12)\n",
    "plt.grid(axis='y', linestyle='--', alpha=0.7)\n",
    "plt.show()"
   ],
   "metadata": {
    "collapsed": false
   }
  },
  {
   "cell_type": "markdown",
   "source": [
    "### Cantidad de Cursos por Plataforma"
   ],
   "metadata": {
    "collapsed": false
   }
  },
  {
   "cell_type": "code",
   "execution_count": 10,
   "outputs": [
    {
     "data": {
      "text/plain": "<Figure size 800x600 with 1 Axes>",
      "image/png": "[encoded data removed]"
     },
     "metadata": {},
     "output_type": "display_data"
    }
   ],
   "source": [
    "plt.figure(figsize=(8, 6))\n",
    "courses_data['Platform'].value_counts().plot(kind='bar', color='lightgreen', edgecolor='black')\n",
    "plt.title('Cantidad de Cursos por Plataforma', fontsize=14)\n",
    "plt.xlabel('Plataforma', fontsize=12)\n",
    "plt.ylabel('Número de cursos', fontsize=12)\n",
    "plt.grid(axis='y', linestyle='--', alpha=0.7)\n",
    "plt.xticks(rotation=45)\n",
    "plt.show()"
   ],
   "metadata": {
    "collapsed": false
   }
  },
  {
   "cell_type": "markdown",
   "source": [
    "1. **Distribución de calificaciones**: Las calificaciones están concentradas en valores altos, con la mayoría de los cursos puntuados entre 4.5 y 5.0.\n",
    "\n",
    "2. **Cantidad de cursos por nivel**: Hay más cursos en el nivel intermedio (nivel 1) que en los niveles básico (0) y avanzado (2).\n",
    "\n",
    "3. **Popularidad de los cursos**: La distribución del número de estudiantes por curso muestra que hay cursos altamente populares, pero también muchos con menor inscripción.\n",
    "\n",
    "4. **Cantidad de cursos por plataforma**: Algunas plataformas ofrecen una mayor variedad de cursos en comparación con otras."
   ],
   "metadata": {
    "collapsed": false
   }
  },
  {
   "cell_type": "markdown",
   "source": [
    "# Preprocesamiento del texto en la columna \"Skills\"\n",
    "La columna Skills contiene información textual sobre las habilidades desarrolladas en cada curso. Para usar esto en un modelo de recomendación basado en contenido, convertiremos este texto en una representación numérica que capture el significado subyacente. Vamos paso a paso:\n",
    "\n",
    "1. **Limpieza del texto:**\n",
    "\n",
    "Convertiremos todo a minúsculas.\n",
    "Eliminaremos caracteres especiales o irrelevantes.\n",
    "Normalizaremos el texto eliminando espacios extra.\n",
    "\n",
    "2. **Tokenización y vectorización**:\n",
    "\n",
    "Convertiremos las habilidades en vectores numéricos.\n",
    "Usaremos TF-IDF (Term Frequency-Inverse Document Frequency), que asigna pesos a términos en función de su frecuencia en un documento en comparación con otros documentos.\n",
    "\n",
    "3. **Similitud entre cursos:**\n",
    "\n",
    "Calcularemos la similitud entre los cursos utilizando la similitud del coseno, que mide cuán similares son dos vectores."
   ],
   "metadata": {
    "collapsed": false
   }
  },
  {
   "cell_type": "code",
   "execution_count": 81,
   "outputs": [
    {
     "data": {
      "text/plain": "(1835, 3036)"
     },
     "execution_count": 81,
     "metadata": {},
     "output_type": "execute_result"
    }
   ],
   "source": [
    "from sklearn.feature_extraction.text import TfidfVectorizer\n",
    "\n",
    "# 1. Limpieza del texto\n",
    "def clean_text(text):\n",
    "    # Convertir a minúsculas y eliminar caracteres especiales\n",
    "    return ' '.join(text.lower().replace(',', ' ').split())\n",
    "\n",
    "# Aplicar limpieza al texto en la columna Skills\n",
    "courses_data['Cleaned_Skills'] = courses_data['Skills'].apply(clean_text)\n",
    "\n",
    "# 2. Vectorización con TF-IDF\n",
    "tfidf_vectorizer = TfidfVectorizer(stop_words='english')  # Eliminar palabras comunes en inglés\n",
    "tfidf_matrix = tfidf_vectorizer.fit_transform(courses_data['Cleaned_Skills'])\n",
    "\n",
    "# Información sobre la matriz TF-IDF generada\n",
    "tfidf_matrix.shape  # Dimensiones de la matriz"
   ],
   "metadata": {
    "collapsed": false
   }
  },
  {
   "cell_type": "markdown",
   "source": [
    "**Limpieza del texto:** Hemos normalizado y limpiado las habilidades en la columna Skills.\n",
    "**Vectorización:** La matriz TF-IDF tiene dimensiones (2377, 3160):\n",
    "2377 cursos (filas).\n",
    "3160 términos únicos (columnas) representando las habilidades.\n",
    "Esto significa que cada curso ahora está representado como un vector en un espacio de 3160 dimensiones, donde cada valor indica la importancia del término en ese curso."
   ],
   "metadata": {
    "collapsed": false
   }
  },
  {
   "cell_type": "markdown",
   "source": [
    "### Matriz de Similitud Coseno\n",
    "Calculemos la similitud entre los cursos usando la similitud del coseno. Esto nos permitirá identificar cursos similares basados en las habilidades."
   ],
   "metadata": {
    "collapsed": false
   }
  },
  {
   "cell_type": "code",
   "execution_count": 82,
   "outputs": [
    {
     "data": {
      "text/plain": "(1835, 1835)"
     },
     "execution_count": 82,
     "metadata": {},
     "output_type": "execute_result"
    }
   ],
   "source": [
    "from sklearn.metrics.pairwise import cosine_similarity\n",
    "\n",
    "# 3. Calcular la similitud del coseno entre los cursos\n",
    "cosine_sim_matrix = cosine_similarity(tfidf_matrix)\n",
    "\n",
    "# Mostrar las dimensiones de la matriz de similitud\n",
    "cosine_sim_matrix.shape  # Dimensiones: número de cursos x número de cursos\n"
   ],
   "metadata": {
    "collapsed": false
   }
  },
  {
   "cell_type": "markdown",
   "source": [
    "## Función recommend_courses\n",
    "**Filtros básicos:**\n",
    "Palabra clave: Busca la palabra ingresada por el usuario en la columna \"Skills\".\n",
    "Nivel: Filtra los cursos por el nivel especificado (opcional).\n",
    "Rango de calificaciones: Excluye los cursos fuera del rango definido por el usuario.\n",
    "\n",
    "**Similitud:**\n",
    "Calcula la similitud promedio entre los cursos que cumplen con los filtros y todos los cursos restantes.\n",
    "Devuelve los cursos más similares, ordenados por relevancia.\n",
    "\n",
    "**Resultados:**\n",
    "Los resultados incluyen el nombre del curso, calificación, nivel, habilidades y su similitud, pero actualmente podrían tener duplicados."
   ],
   "metadata": {
    "collapsed": false
   }
  },
  {
   "cell_type": "code",
   "execution_count": 83,
   "outputs": [],
   "source": [
    "def recommend_courses(\n",
    "    keyword, level=None, rating_range=(0.0, 5.0), platform=None, top_n=5, show_columns=None\n",
    "):\n",
    "    \"\"\"\n",
    "    Recomienda cursos basados en una palabra clave, nivel, rango de rating y plataforma.\n",
    "\n",
    "    Parámetros:\n",
    "        keyword (str): Palabra clave para buscar en las habilidades.\n",
    "        level (int): Nivel del curso (0: Básico, 1: Intermedio, 2: Avanzado). Si es None, no filtra por nivel.\n",
    "        rating_range (tuple): Rango de calificación (min, max).\n",
    "        platform (str): Plataforma específica para filtrar los cursos. Si es None, no filtra por plataforma.\n",
    "        top_n (int): Número de recomendaciones a devolver.\n",
    "        show_columns (list): Lista de columnas específicas a mostrar en el resultado.\n",
    "\n",
    "    Retorna:\n",
    "        pd.DataFrame: Cursos recomendados con las columnas seleccionadas.\n",
    "    \"\"\"\n",
    "    # Filtro por palabra clave\n",
    "    keyword_filtered = courses_data[courses_data['Cleaned_Skills'].str.contains(keyword.lower(), na=False)]\n",
    "\n",
    "    # Filtro por nivel (si se especifica)\n",
    "    if level is not None:\n",
    "        keyword_filtered = keyword_filtered[keyword_filtered['Level'] == level]\n",
    "\n",
    "    # Filtro por rango de calificación\n",
    "    keyword_filtered = keyword_filtered[\n",
    "        (keyword_filtered['Rating'] >= rating_range[0]) & (keyword_filtered['Rating'] <= rating_range[1])\n",
    "    ]\n",
    "\n",
    "    # Filtro por plataforma (si se especifica)\n",
    "    if platform:\n",
    "        keyword_filtered = keyword_filtered[keyword_filtered['Platform'].str.contains(platform, na=False)]\n",
    "\n",
    "    # Si no hay cursos después del filtro, retornar mensaje vacío\n",
    "    if keyword_filtered.empty:\n",
    "        return \"No se encontraron cursos que coincidan con los criterios especificados.\"\n",
    "\n",
    "    # Calcular similitud entre los cursos filtrados y todos los cursos\n",
    "    filtered_indices = keyword_filtered.index.tolist()\n",
    "    similarity_scores = cosine_sim_matrix[filtered_indices].mean(axis=0)\n",
    "\n",
    "    # Ordenar los cursos por similitud y eliminar duplicados\n",
    "    recommendations = pd.DataFrame({\n",
    "        'Course_Name': courses_data['Course_Name'],\n",
    "        'Similarity': similarity_scores\n",
    "    }).sort_values(by='Similarity', ascending=False).drop_duplicates(subset='Course_Name').head(top_n)\n",
    "\n",
    "    # Combinar con información adicional\n",
    "    recommendations = recommendations.merge(courses_data, on='Course_Name')\n",
    "\n",
    "    # Mostrar columnas específicas (si se especifica)\n",
    "    if show_columns:\n",
    "        return recommendations[show_columns]\n",
    "\n",
    "    # Columnas predeterminadas\n",
    "    return recommendations[['Course_Name', 'Rating', 'Level', 'Skills', 'Platform', 'Similarity']]\n",
    "\n",
    "\n",
    "# Ejemplo de uso\n",
    "example_recommendations = recommend_courses(\n",
    "    keyword='javascript',\n",
    "    level=1,\n",
    "    rating_range=(4.0, 5.0),\n",
    "    platform='Udacity',\n",
    "    top_n=5,\n",
    "    show_columns=['Course_Name', 'Rating', 'Platform', 'Similarity']\n",
    ")\n"
   ],
   "metadata": {
    "collapsed": false
   }
  },
  {
   "cell_type": "markdown",
   "source": [
    "#### Ejemplo de uso"
   ],
   "metadata": {
    "collapsed": false
   }
  },
  {
   "cell_type": "code",
   "execution_count": 85,
   "outputs": [
    {
     "data": {
      "text/plain": "                                         Course_Name    Rating Platform  \\\n0  IBM: Back-end Application Development with Nod...  4.200000      EdX   \n1  HarvardX: CS50's Web Programming with Python a...  4.671711      EdX   \n2          IBM: Cloud Application Developer Capstone  4.671711      EdX   \n3  IBM: Guided Project: Build a COVID Dashboard w...  4.671711      EdX   \n4  HarvardX: CS50's Mobile App Development with R...  4.671711      EdX   \n\n   Similarity  \n0    0.441622  \n1    0.437670  \n2    0.407093  \n3    0.397296  \n4    0.383500  ",
      "text/html": "<div>\n<style scoped>\n    .dataframe tbody tr th:only-of-type {\n        vertical-align: middle;\n    }\n\n    .dataframe tbody tr th {\n        vertical-align: top;\n    }\n\n    .dataframe thead th {\n        text-align: right;\n    }\n</style>\n<table border=\"1\" class=\"dataframe\">\n  <thead>\n    <tr style=\"text-align: right;\">\n      <th></th>\n      <th>Course_Name</th>\n      <th>Rating</th>\n      <th>Platform</th>\n      <th>Similarity</th>\n    </tr>\n  </thead>\n  <tbody>\n    <tr>\n      <th>0</th>\n      <td>IBM: Back-end Application Development with Nod...</td>\n      <td>4.200000</td>\n      <td>EdX</td>\n      <td>0.441622</td>\n    </tr>\n    <tr>\n      <th>1</th>\n      <td>HarvardX: CS50's Web Programming with Python a...</td>\n      <td>4.671711</td>\n      <td>EdX</td>\n      <td>0.437670</td>\n    </tr>\n    <tr>\n      <th>2</th>\n      <td>IBM: Cloud Application Developer Capstone</td>\n      <td>4.671711</td>\n      <td>EdX</td>\n      <td>0.407093</td>\n    </tr>\n    <tr>\n      <th>3</th>\n      <td>IBM: Guided Project: Build a COVID Dashboard w...</td>\n      <td>4.671711</td>\n      <td>EdX</td>\n      <td>0.397296</td>\n    </tr>\n    <tr>\n      <th>4</th>\n      <td>HarvardX: CS50's Mobile App Development with R...</td>\n      <td>4.671711</td>\n      <td>EdX</td>\n      <td>0.383500</td>\n    </tr>\n  </tbody>\n</table>\n</div>"
     },
     "execution_count": 85,
     "metadata": {},
     "output_type": "execute_result"
    }
   ],
   "source": [
    "# Ejemplo de uso\n",
    "example_recommendations = recommend_courses(\n",
    "    keyword='react',\n",
    "    level=1,\n",
    "    top_n=5,\n",
    "    show_columns=['Course_Name', 'Rating', 'Platform', 'Similarity']\n",
    ")\n",
    "example_recommendations.head(10)"
   ],
   "metadata": {
    "collapsed": false
   }
  },
  {
   "cell_type": "markdown",
   "source": [
    "Tenemos un modelo funcional, pero **no quede muy satisfecho con el modelo, intentaré crear otro con embeddings avanzados ya creados**"
   ],
   "metadata": {
    "collapsed": false
   }
  },
  {
   "cell_type": "code",
   "execution_count": 11,
   "outputs": [
    {
     "data": {
      "text/plain": "modules.json:   0%|          | 0.00/349 [00:00<?, ?B/s]",
      "application/vnd.jupyter.widget-view+json": {
       "version_major": 2,
       "version_minor": 0,
       "model_id": "c4bb7d0055744e1cb56e7c6f6893b958"
      }
     },
     "metadata": {},
     "output_type": "display_data"
    },
    {
     "name": "stderr",
     "output_type": "stream",
     "text": [
      "C:\\Users\\Usuario\\anaconda3\\Lib\\site-packages\\huggingface_hub\\file_download.py:140: UserWarning: `huggingface_hub` cache-system uses symlinks by default to efficiently store duplicated files but your machine does not support them in C:\\Users\\Usuario\\.cache\\huggingface\\hub\\models--sentence-transformers--all-MiniLM-L6-v2. Caching files will still work but in a degraded version that might require more space on your disk. This warning can be disabled by setting the `HF_HUB_DISABLE_SYMLINKS_WARNING` environment variable. For more details, see https://huggingface.co/docs/huggingface_hub/how-to-cache#limitations.\n",
      "To support symlinks on Windows, you either need to activate Developer Mode or to run Python as an administrator. In order to activate developer mode, see this article: https://docs.microsoft.com/en-us/windows/apps/get-started/enable-your-device-for-development\n",
      "  warnings.warn(message)\n"
     ]
    },
    {
     "data": {
      "text/plain": "config_sentence_transformers.json:   0%|          | 0.00/116 [00:00<?, ?B/s]",
      "application/vnd.jupyter.widget-view+json": {
       "version_major": 2,
       "version_minor": 0,
       "model_id": "b487215307444c34b298250f3699da14"
      }
     },
     "metadata": {},
     "output_type": "display_data"
    },
    {
     "data": {
      "text/plain": "README.md:   0%|          | 0.00/10.7k [00:00<?, ?B/s]",
      "application/vnd.jupyter.widget-view+json": {
       "version_major": 2,
       "version_minor": 0,
       "model_id": "bca8f0fc08704932a1c5a507bd9d48f3"
      }
     },
     "metadata": {},
     "output_type": "display_data"
    },
    {
     "data": {
      "text/plain": "sentence_bert_config.json:   0%|          | 0.00/53.0 [00:00<?, ?B/s]",
      "application/vnd.jupyter.widget-view+json": {
       "version_major": 2,
       "version_minor": 0,
       "model_id": "61ef1d9f547c449897d149bed20a0f30"
      }
     },
     "metadata": {},
     "output_type": "display_data"
    },
    {
     "data": {
      "text/plain": "config.json:   0%|          | 0.00/612 [00:00<?, ?B/s]",
      "application/vnd.jupyter.widget-view+json": {
       "version_major": 2,
       "version_minor": 0,
       "model_id": "b03d720b539a47c79b7a0735e9fded10"
      }
     },
     "metadata": {},
     "output_type": "display_data"
    },
    {
     "data": {
      "text/plain": "model.safetensors:   0%|          | 0.00/90.9M [00:00<?, ?B/s]",
      "application/vnd.jupyter.widget-view+json": {
       "version_major": 2,
       "version_minor": 0,
       "model_id": "60730108d937424a84c196e6495d8b6c"
      }
     },
     "metadata": {},
     "output_type": "display_data"
    },
    {
     "data": {
      "text/plain": "tokenizer_config.json:   0%|          | 0.00/350 [00:00<?, ?B/s]",
      "application/vnd.jupyter.widget-view+json": {
       "version_major": 2,
       "version_minor": 0,
       "model_id": "101c830af644483cb0f84d0df871040c"
      }
     },
     "metadata": {},
     "output_type": "display_data"
    },
    {
     "data": {
      "text/plain": "vocab.txt:   0%|          | 0.00/232k [00:00<?, ?B/s]",
      "application/vnd.jupyter.widget-view+json": {
       "version_major": 2,
       "version_minor": 0,
       "model_id": "dce978c7a358446cb6e8eaa7d85f1cf7"
      }
     },
     "metadata": {},
     "output_type": "display_data"
    },
    {
     "data": {
      "text/plain": "tokenizer.json:   0%|          | 0.00/466k [00:00<?, ?B/s]",
      "application/vnd.jupyter.widget-view+json": {
       "version_major": 2,
       "version_minor": 0,
       "model_id": "ba458d27febd47b7ab432a8b98de625b"
      }
     },
     "metadata": {},
     "output_type": "display_data"
    },
    {
     "data": {
      "text/plain": "special_tokens_map.json:   0%|          | 0.00/112 [00:00<?, ?B/s]",
      "application/vnd.jupyter.widget-view+json": {
       "version_major": 2,
       "version_minor": 0,
       "model_id": "9f775d68679a4e96801d1c3e2cfc308e"
      }
     },
     "metadata": {},
     "output_type": "display_data"
    },
    {
     "data": {
      "text/plain": "1_Pooling/config.json:   0%|          | 0.00/190 [00:00<?, ?B/s]",
      "application/vnd.jupyter.widget-view+json": {
       "version_major": 2,
       "version_minor": 0,
       "model_id": "2a6d5380edda4bddb7ed376aa73abb88"
      }
     },
     "metadata": {},
     "output_type": "display_data"
    },
    {
     "data": {
      "text/plain": "(1860, 1860)"
     },
     "execution_count": 11,
     "metadata": {},
     "output_type": "execute_result"
    }
   ],
   "source": [
    "from sentence_transformers import SentenceTransformer\n",
    "from sklearn.metrics.pairwise import cosine_similarity\n",
    "\n",
    "def clean_text(text):\n",
    "    # Convertir a minúsculas, eliminar caracteres especiales y normalizar\n",
    "    return ' '.join(text.lower().replace(',', ' ').split())\n",
    "\n",
    "# Limpiamos un poco el df\n",
    "# Eliminar duplicados en el dataset base considerando nombre y plataforma\n",
    "courses_data = courses_data.drop_duplicates(subset=['Course_Name', 'Platform']).reset_index(drop=True)\n",
    "\n",
    "# Aplicar limpieza al texto en la columna Skills\n",
    "courses_data['Cleaned_Skills'] = courses_data['Skills'].apply(clean_text)\n",
    "\n",
    "# Embeddings\n",
    "# Cargar un modelo preentrenado de Sentence Transformers\n",
    "model = SentenceTransformer('all-MiniLM-L6-v2')\n",
    "\n",
    "# Generar embeddings para cada curso\n",
    "courses_data['Embeddings'] = courses_data['Cleaned_Skills'].apply(\n",
    "    lambda x: model.encode(x, show_progress_bar=False)\n",
    ")\n",
    "\n",
    "# Crear una matriz de similitud entre todos los cursos\n",
    "all_embeddings = list(courses_data['Embeddings'])\n",
    "cosine_sim_matrix = cosine_similarity(all_embeddings)\n",
    "\n",
    "# Confirmar dimensiones de la matriz de similitud\n",
    "cosine_sim_matrix.shape  # Dimensiones: número de cursos x número de cursos"
   ],
   "metadata": {
    "collapsed": false
   }
  },
  {
   "cell_type": "code",
   "execution_count": 23,
   "outputs": [],
   "source": [
    "def recommend_courses_with_embeddings(\n",
    "    keyword, level=None, rating_range=(0.0, 5.0), platform=None, top_n=5, popularity_weight=0.5\n",
    "):\n",
    "    \"\"\"\n",
    "    Recomienda cursos utilizando embeddings basados en habilidades, calificaciones y popularidad.\n",
    "\n",
    "    Parámetros:\n",
    "        keyword (str): Palabra clave para buscar en las habilidades.\n",
    "        level (int): Nivel del curso (0: Básico, 1: Intermedio, 2: Avanzado). Si es None, no filtra por nivel.\n",
    "        rating_range (tuple): Rango de calificación (min, max).\n",
    "        platform (str): Plataforma específica para filtrar los cursos. Si es None, no filtra por plataforma.\n",
    "        top_n (int): Número de recomendaciones a devolver.\n",
    "        popularity_weight (float): Peso de la popularidad en la ordenación (entre 0 y 1).\n",
    "\n",
    "    Retorna:\n",
    "        pd.DataFrame: Cursos recomendados ordenados por relevancia o un mensaje de error.\n",
    "    \"\"\"\n",
    "    # Validación de entradas del usuario\n",
    "    if not keyword or not isinstance(keyword, str):\n",
    "        raise ValueError(\"El parámetro 'keyword' debe ser una cadena no vacía.\")\n",
    "    if level is not None and level not in courses_data['Level'].unique():\n",
    "        raise ValueError(f\"El parámetro 'level' debe ser uno de {courses_data['Level'].unique().tolist()} o None.\")\n",
    "    if not isinstance(rating_range, tuple) or len(rating_range) != 2 or not (0.0 <= rating_range[0] <= 5.0) or not (0.0 <= rating_range[1] <= 5.0):\n",
    "        raise ValueError(\"El parámetro 'rating_range' debe ser una tupla (min, max) con valores entre 0 y 5.\")\n",
    "    if platform and platform not in courses_data['Platform'].unique():\n",
    "        raise ValueError(f\"El parámetro 'platform' debe ser una de las plataformas disponibles: {courses_data['Platform'].unique().tolist()} o None.\")\n",
    "    if not isinstance(top_n, int) or top_n <= 0:\n",
    "        raise ValueError(\"El parámetro 'top_n' debe ser un entero mayor a 0.\")\n",
    "\n",
    "    # Filtro por palabra clave\n",
    "    filtered_courses = courses_data[\n",
    "        courses_data['Cleaned_Skills'].str.contains(keyword.lower(), na=False)\n",
    "    ]\n",
    "\n",
    "    # Filtro por nivel (si se especifica)\n",
    "    if level is not None:\n",
    "        filtered_courses = filtered_courses[filtered_courses['Level'] == level]\n",
    "\n",
    "    # Filtro por rango de calificación\n",
    "    filtered_courses = filtered_courses[\n",
    "        (filtered_courses['Rating'] >= rating_range[0]) & (filtered_courses['Rating'] <= rating_range[1])\n",
    "    ]\n",
    "\n",
    "    # Filtro por plataforma (si se especifica)\n",
    "    if platform:\n",
    "        filtered_courses = filtered_courses[filtered_courses['Platform'].str.contains(platform, na=False)]\n",
    "\n",
    "    # Si no hay cursos después del filtro, retornar un mensaje vacío\n",
    "    if filtered_courses.empty:\n",
    "        return \"No se encontraron cursos que coincidan con los criterios especificados.\"\n",
    "\n",
    "    # Obtener embedding del keyword ingresado\n",
    "    keyword_embedding = model.encode(keyword.lower(), show_progress_bar=False)\n",
    "\n",
    "    # Calcular similitud con los cursos filtrados\n",
    "    filtered_embeddings = list(filtered_courses['Embeddings'])\n",
    "    similarity_scores = cosine_similarity([keyword_embedding], filtered_embeddings)[0]\n",
    "\n",
    "    # Crear DataFrame temporal con similitud\n",
    "    filtered_courses = filtered_courses.copy()\n",
    "    filtered_courses['Similarity'] = similarity_scores\n",
    "\n",
    "    # Incorporar popularidad en la ordenación\n",
    "    filtered_courses['Relevance'] = (\n",
    "        (1 - popularity_weight) * filtered_courses['Similarity'] +\n",
    "        popularity_weight * (filtered_courses['Number of students'] / filtered_courses['Number of students'].max())\n",
    "    )\n",
    "\n",
    "    # Ordenar por relevancia y eliminar duplicados\n",
    "    recommendations = filtered_courses.sort_values(\n",
    "        by=['Relevance', 'Rating'], ascending=[False, False]\n",
    "    ).drop_duplicates(subset=['Course_Name', 'Platform']).head(top_n)\n",
    "\n",
    "    return recommendations[['Course_Name', 'Platform', 'Rating', 'Level', 'Skills', 'Similarity', 'Relevance']]\n"
   ],
   "metadata": {
    "collapsed": false
   }
  },
  {
   "cell_type": "code",
   "execution_count": 25,
   "outputs": [
    {
     "data": {
      "text/plain": "                                            Course_Name  Platform    Rating  \\\n477             CS50's Introduction to Computer Science       EdX  4.671711   \n344       ETHx: Introduction to Web Cartography: Part 2       EdX  4.671711   \n480   HarvardX: CS50's Introduction to Programming w...       EdX  4.671711   \n1538                      Interactivity with JavaScript  Coursera  4.700000   \n345       ETHx: Introduction to Web Cartography: Part 1       EdX  4.671711   \n\n      Level                                             Skills  Similarity  \\\n477       0  Cascading Style Sheets (CSS), Security Softwar...    0.227686   \n344       0     Web Mapping, JavaScript (Programming Language)    0.611913   \n480       0  Web Development, Unit Testing, SQL (Programmin...    0.292679   \n1538      0  Document Object Model (DOM),JavaScript,Web Dev...    0.565882   \n345       0  Mapping, Web Mapping, JavaScript (Programming ...    0.497735   \n\n      Relevance  \n477    0.768306  \n344    0.204055  \n480    0.191350  \n1538   0.170667  \n345    0.168669  ",
      "text/html": "<div>\n<style scoped>\n    .dataframe tbody tr th:only-of-type {\n        vertical-align: middle;\n    }\n\n    .dataframe tbody tr th {\n        vertical-align: top;\n    }\n\n    .dataframe thead th {\n        text-align: right;\n    }\n</style>\n<table border=\"1\" class=\"dataframe\">\n  <thead>\n    <tr style=\"text-align: right;\">\n      <th></th>\n      <th>Course_Name</th>\n      <th>Platform</th>\n      <th>Rating</th>\n      <th>Level</th>\n      <th>Skills</th>\n      <th>Similarity</th>\n      <th>Relevance</th>\n    </tr>\n  </thead>\n  <tbody>\n    <tr>\n      <th>477</th>\n      <td>CS50's Introduction to Computer Science</td>\n      <td>EdX</td>\n      <td>4.671711</td>\n      <td>0</td>\n      <td>Cascading Style Sheets (CSS), Security Softwar...</td>\n      <td>0.227686</td>\n      <td>0.768306</td>\n    </tr>\n    <tr>\n      <th>344</th>\n      <td>ETHx: Introduction to Web Cartography: Part 2</td>\n      <td>EdX</td>\n      <td>4.671711</td>\n      <td>0</td>\n      <td>Web Mapping, JavaScript (Programming Language)</td>\n      <td>0.611913</td>\n      <td>0.204055</td>\n    </tr>\n    <tr>\n      <th>480</th>\n      <td>HarvardX: CS50's Introduction to Programming w...</td>\n      <td>EdX</td>\n      <td>4.671711</td>\n      <td>0</td>\n      <td>Web Development, Unit Testing, SQL (Programmin...</td>\n      <td>0.292679</td>\n      <td>0.191350</td>\n    </tr>\n    <tr>\n      <th>1538</th>\n      <td>Interactivity with JavaScript</td>\n      <td>Coursera</td>\n      <td>4.700000</td>\n      <td>0</td>\n      <td>Document Object Model (DOM),JavaScript,Web Dev...</td>\n      <td>0.565882</td>\n      <td>0.170667</td>\n    </tr>\n    <tr>\n      <th>345</th>\n      <td>ETHx: Introduction to Web Cartography: Part 1</td>\n      <td>EdX</td>\n      <td>4.671711</td>\n      <td>0</td>\n      <td>Mapping, Web Mapping, JavaScript (Programming ...</td>\n      <td>0.497735</td>\n      <td>0.168669</td>\n    </tr>\n  </tbody>\n</table>\n</div>"
     },
     "execution_count": 25,
     "metadata": {},
     "output_type": "execute_result"
    }
   ],
   "source": [
    "example_recommendations = recommend_courses_with_embeddings(\n",
    "    keyword='javascript',\n",
    "    level=0,\n",
    "    rating_range=(3.0, 5.0),\n",
    "    platform=None,\n",
    "    top_n=5,\n",
    "    popularity_weight=0.7  # Dar más peso a la popularidad\n",
    ")\n",
    "\n",
    "# Mostrar resultados\n",
    "example_recommendations.head(5)\n"
   ],
   "metadata": {
    "collapsed": false
   }
  },
  {
   "cell_type": "code",
   "execution_count": null,
   "outputs": [],
   "source": [],
   "metadata": {
    "collapsed": false
   }
  }
 ],
 "metadata": {
  "kernelspec": {
   "display_name": "Python 3",
   "language": "python",
   "name": "python3"
  },
  "language_info": {
   "codemirror_mode": {
    "name": "ipython",
    "version": 2
   },
   "file_extension": ".py",
   "mimetype": "text/x-python",
   "name": "python",
   "nbconvert_exporter": "python",
   "pygments_lexer": "ipython2",
   "version": "2.7.6"
  }
 },
 "nbformat": 4,
 "nbformat_minor": 0
}
